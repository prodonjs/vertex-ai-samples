{
  "nbformat": 4,
  "nbformat_minor": 0,
  "metadata": {
    "colab": {
      "name": "notebooks/new notebook.ipynb",
      "cell_execution_strategy": "setup",
      "provenance": []
    },
    "kernelspec": {
      "name": "python3",
      "display_name": "Python 3"
    },
    "language_info": {
      "name": "python"
    }
  },
  "cells": [
    {
      "cell_type": "markdown",
      "source": [
        "# Saving to GitHub"
      ],
      "metadata": {
        "id": "PodwN23C0h_2"
      }
    },
    {
      "cell_type": "code",
      "source": [
        "print('do some stuff')"
      ],
      "metadata": {
        "id": "gB8vNn3x0g2z"
      },
      "execution_count": null,
      "outputs": []
    },
    {
      "cell_type": "code",
      "source": [],
      "metadata": {
        "id": "sCnlFN_z0jdD"
      },
      "execution_count": null,
      "outputs": []
    }
  ]
}