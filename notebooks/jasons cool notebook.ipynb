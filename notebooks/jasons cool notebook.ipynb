{
  "cells": [
    {
      "cell_type": "code",
      "execution_count": null,
      "id": "f867ec21-a423-43d1-8351-2b127cfefd01",
      "metadata": {
        "tags": [],
        "id": "f867ec21-a423-43d1-8351-2b127cfefd01",
        "outputId": "0d461cea-07e5-46f3-8b2a-6d645413f0de"
      },
      "outputs": [
        {
          "name": "stdout",
          "output_type": "stream",
          "text": [
            "Hello Word\n"
          ]
        }
      ],
      "source": [
        "print('Hello Word')"
      ]
    },
    {
      "cell_type": "code",
      "execution_count": null,
      "id": "2a19e71b-d84d-4398-9399-7b70ba8ae47e",
      "metadata": {
        "id": "2a19e71b-d84d-4398-9399-7b70ba8ae47e"
      },
      "outputs": [],
      "source": [
        "print('no way man, you just imported from Workbench!')"
      ]
    },
    {
      "cell_type": "code",
      "source": [],
      "metadata": {
        "id": "PPkDzjWe7nQy"
      },
      "id": "PPkDzjWe7nQy",
      "execution_count": null,
      "outputs": []
    }
  ],
  "metadata": {
    "environment": {
      "kernel": "conda-base-py",
      "name": "workbench-notebooks.m124",
      "type": "gcloud",
      "uri": "us-docker.pkg.dev/deeplearning-platform-release/gcr.io/workbench-notebooks:m124"
    },
    "kernelspec": {
      "display_name": "Python 3 (ipykernel) (Local)",
      "language": "python",
      "name": "conda-base-py"
    },
    "language_info": {
      "codemirror_mode": {
        "name": "ipython",
        "version": 3
      },
      "file_extension": ".py",
      "mimetype": "text/x-python",
      "name": "python",
      "nbconvert_exporter": "python",
      "pygments_lexer": "ipython3",
      "version": "3.10.14"
    },
    "colab": {
      "provenance": []
    }
  },
  "nbformat": 4,
  "nbformat_minor": 5
}